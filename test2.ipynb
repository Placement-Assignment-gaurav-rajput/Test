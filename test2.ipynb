{
 "cells": [
  {
   "cell_type": "code",
   "execution_count": 1,
   "id": "37db481a",
   "metadata": {},
   "outputs": [
    {
     "name": "stdout",
     "output_type": "stream",
     "text": [
      "0\n"
     ]
    }
   ],
   "source": [
    "def firstUniqueCharacter(s: str) -> int:\n",
    "    \n",
    "    # Creating an empty dictionary\n",
    "    hmap = dict()\n",
    "    \n",
    "    # updating dictionary with key=each alphabet in string; \n",
    "    # value = alphabet's frequecy in string \n",
    "    for char in s:\n",
    "        hmap[char] = hmap.get(char, 0) + 1\n",
    "        \n",
    "    # Comparing alphabet from string to its frequency in dictionary \n",
    "    # and returning its index in string if its freq==1\n",
    "    for index in range(len(s)):\n",
    "        if hmap[s[index]] == 1:\n",
    "            return index\n",
    "    return -1\n",
    "\n",
    "\n",
    "if __name__ == \"__main__\":\n",
    "    s = 'Leetcode'\n",
    "    print(firstUniqueCharacter(s))"
   ]
  },
  {
   "cell_type": "code",
   "execution_count": null,
   "id": "5cfcf3ef",
   "metadata": {},
   "outputs": [],
   "source": []
  }
 ],
 "metadata": {
  "kernelspec": {
   "display_name": "Python 3 (ipykernel)",
   "language": "python",
   "name": "python3"
  },
  "language_info": {
   "codemirror_mode": {
    "name": "ipython",
    "version": 3
   },
   "file_extension": ".py",
   "mimetype": "text/x-python",
   "name": "python",
   "nbconvert_exporter": "python",
   "pygments_lexer": "ipython3",
   "version": "3.9.12"
  }
 },
 "nbformat": 4,
 "nbformat_minor": 5
}
