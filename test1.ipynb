{
 "cells": [
  {
   "cell_type": "code",
   "execution_count": 2,
   "id": "a21d2ddb",
   "metadata": {},
   "outputs": [
    {
     "name": "stdout",
     "output_type": "stream",
     "text": [
      "[1, 3, 12, 0, 0]\n"
     ]
    }
   ],
   "source": [
    "from typing import List\n",
    "\n",
    "def moveZeroesToBack(num: List[int]) -> List[int]:\n",
    "    # initializing a pointer at index=0\n",
    "    zero = 0\n",
    "    \n",
    "    # LOGIC : zero ponter and idx moves from left to right in array.\n",
    "    # when we see 0, zero pointer stops and idx moves till we find a non-zero number\n",
    "    # and swap the two in-place\n",
    "    for idx in range(len(num)):\n",
    "        if num[idx] != 0:\n",
    "            num[idx], num[zero] = num[zero], num[idx]\n",
    "            zero += 1\n",
    "            \n",
    "    return num\n",
    "\n",
    "\n",
    "if __name__ == \"__main__\":\n",
    "    nums = [1,3,0,0,12]\n",
    "    print(moveZeroesToBack(nums))\n",
    "        "
   ]
  },
  {
   "cell_type": "code",
   "execution_count": null,
   "id": "8ef574c3",
   "metadata": {},
   "outputs": [],
   "source": []
  }
 ],
 "metadata": {
  "kernelspec": {
   "display_name": "Python 3 (ipykernel)",
   "language": "python",
   "name": "python3"
  },
  "language_info": {
   "codemirror_mode": {
    "name": "ipython",
    "version": 3
   },
   "file_extension": ".py",
   "mimetype": "text/x-python",
   "name": "python",
   "nbconvert_exporter": "python",
   "pygments_lexer": "ipython3",
   "version": "3.9.12"
  }
 },
 "nbformat": 4,
 "nbformat_minor": 5
}
